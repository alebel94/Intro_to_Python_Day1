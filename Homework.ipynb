{
 "cells": [
  {
   "cell_type": "markdown",
   "metadata": {},
   "source": [
    "# ALEJANDRO BELTRAN 01/12/2021"
   ]
  },
  {
   "cell_type": "markdown",
   "metadata": {},
   "source": [
    "## Exercise #1 <br>\n",
    "<p>Cube Number Test... Print out all cubed numbers up to the total value 1000. Meaning that if the cubed number is over 1000 break the loop.</p>"
   ]
  },
  {
   "cell_type": "code",
   "execution_count": 4,
   "metadata": {},
   "outputs": [
    {
     "name": "stdout",
     "output_type": "stream",
     "text": [
      "number:  1 cubed:  1\n",
      "number:  2 cubed:  8\n",
      "number:  3 cubed:  27\n",
      "number:  4 cubed:  64\n",
      "number:  5 cubed:  125\n",
      "number:  6 cubed:  216\n",
      "number:  7 cubed:  343\n",
      "number:  8 cubed:  512\n",
      "number:  9 cubed:  729\n",
      "number:  10 cubed:  1000\n"
     ]
    }
   ],
   "source": [
    "num = 0\n",
    "cubed = 1\n",
    "while cubed < 999:\n",
    "    num += 1\n",
    "    cubed = num ** 3\n",
    "    print(\"number: \", num, \"cubed: \", cubed)\n",
    "    "
   ]
  },
  {
   "cell_type": "markdown",
   "metadata": {},
   "source": [
    "## Exercise #2 <br>\n",
    "<p>Get first prime numbers up to 100</p>"
   ]
  },
  {
   "cell_type": "code",
   "execution_count": null,
   "metadata": {},
   "outputs": [],
   "source": [
    "# HINT::\n",
    "# An else after an if runs if the if didn’t\n",
    "# An else after a for runs if the for didn’t break\n",
    "num = 2\n",
    "prime = [2, ]\n",
    "for num in range(2, 100):\n",
    "    for i in range(2, num - 1):\n",
    "        if num % i == 0:\n",
    "            num += 1\n",
    "        else:\n",
    "            prime.append(num)\n",
    "            break\n",
    "print(prime)  \n",
    "\n",
    "# spent way too long on this\n",
    "# i couldnt get the second for loop to repeat for every i number"
   ]
  },
  {
   "cell_type": "markdown",
   "metadata": {},
   "source": [
    "# Exercise 3 <br>\n",
    "<p>Take in a users input for their age, if they are younger than 18 print kids, if they're 18 to 65 print adults, else print seniors</p>"
   ]
  },
  {
   "cell_type": "code",
   "execution_count": null,
   "metadata": {},
   "outputs": [],
   "source": [
    "age = int(input(\"How old are you? \" ))\n",
    "\n",
    "if age < 18:\n",
    "    print(\"Exercise 3 considers you a kid\")\n",
    "elif 18 < age < 65: \n",
    "    print(\"Exercise 3 considers you an adult\")\n",
    "else:\n",
    "    print(\"Exercise 3 considers you a senior citizen\")"
   ]
  }
 ],
 "metadata": {
  "kernelspec": {
   "display_name": "Python 3",
   "language": "python",
   "name": "python3"
  },
  "language_info": {
   "codemirror_mode": {
    "name": "ipython",
    "version": 3
   },
   "file_extension": ".py",
   "mimetype": "text/x-python",
   "name": "python",
   "nbconvert_exporter": "python",
   "pygments_lexer": "ipython3",
   "version": "3.8.5"
  }
 },
 "nbformat": 4,
 "nbformat_minor": 4
}
